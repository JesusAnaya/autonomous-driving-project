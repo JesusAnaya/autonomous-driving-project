{
 "cells": [
  {
   "cell_type": "code",
   "execution_count": 1,
   "id": "9ecf2cf9-4ad4-497a-9728-eecba3b69ee0",
   "metadata": {
    "tags": []
   },
   "outputs": [],
   "source": [
    "import carla\n",
    "import numpy as np\n",
    "import cv2\n",
    "import time\n",
    "\n",
    "from IPython.display import clear_output, Image\n",
    "import ipywidgets as widgets\n",
    "import threading\n"
   ]
  },
  {
   "cell_type": "code",
   "execution_count": 15,
   "id": "2021c04b-8f11-4c1e-b2e2-2ff0a10e5a73",
   "metadata": {
    "tags": []
   },
   "outputs": [],
   "source": [
    "# Parameters\n",
    "simulator_host_ip = \"192.168.1.71\"\n",
    "start_simulation = True\n",
    "\n",
    "# Add a global variable to control the loop\n",
    "stop_camera_loop = False"
   ]
  },
  {
   "cell_type": "code",
   "execution_count": 3,
   "id": "535884c4-d828-4f3d-8d92-41e5469851ca",
   "metadata": {},
   "outputs": [],
   "source": [
    "def process_image(image):\n",
    "    img_array = np.array(image.raw_data)\n",
    "    img_rgb = img_array.reshape((image.height, image.width, 4))\n",
    "    img_rgb = img_rgb[:, :, :3]\n",
    "    img_bgr = cv2.cvtColor(img_rgb, cv2.COLOR_RGB2BGR)\n",
    "    img_jpeg = cv2.imencode('.jpeg', img_bgr)[1].tobytes()\n",
    "    return img_jpeg\n",
    "\n",
    "def display_image(image_data):\n",
    "    clear_output(wait=True)\n",
    "    display(Image(image_data))\n"
   ]
  },
  {
   "cell_type": "code",
   "execution_count": 11,
   "id": "bb099727-c702-44a7-9804-d4519e2472a8",
   "metadata": {},
   "outputs": [],
   "source": [
    "\n",
    "remote_host_ip = simulator_host_ip\n",
    "remote_host_port = 2000\n",
    "\n",
    "client = carla.Client(remote_host_ip, remote_host_port)\n",
    "client.set_timeout(10.0)\n",
    "\n",
    "world = client.get_world()\n",
    "blueprint_library = world.get_blueprint_library()\n",
    "\n",
    "# Spawn a vehicle\n",
    "vehicle_bp = blueprint_library.find('vehicle.tesla.model3')\n",
    "spawn_point = world.get_map().get_spawn_points()[0]\n",
    "vehicle = world.spawn_actor(vehicle_bp, spawn_point)\n",
    "\n",
    "# Attach a camera sensor to the vehicle\n",
    "camera_bp = blueprint_library.find('sensor.camera.rgb')\n",
    "camera_bp.set_attribute('image_size_x', '800')\n",
    "camera_bp.set_attribute('image_size_y', '600')\n",
    "camera_bp.set_attribute('fov', '110')\n",
    "\n",
    "camera_transform = carla.Transform(carla.Location(x=2.5, z=1.2))\n",
    "camera = world.spawn_actor(camera_bp, camera_transform, attach_to=vehicle)\n"
   ]
  },
  {
   "cell_type": "code",
   "execution_count": 12,
   "id": "fc633a99-7f86-409b-b97f-5dc9b4613113",
   "metadata": {
    "tags": []
   },
   "outputs": [
    {
     "data": {
      "application/vnd.jupyter.widget-view+json": {
       "model_id": "ed0df58b5cc240a681e7b403637ce152",
       "version_major": 2,
       "version_minor": 0
      },
      "text/plain": [
       "Button(description='Stop Simulation', style=ButtonStyle())"
      ]
     },
     "metadata": {},
     "output_type": "display_data"
    }
   ],
   "source": [
    "def on_stop_button_click(button):\n",
    "    global stop_camera_loop\n",
    "    stop_camera_loop = True\n",
    "\n",
    "stop_button = widgets.Button(description=\"Stop Simulation\")\n",
    "stop_button.on_click(on_stop_button_click)\n",
    "display(stop_button)"
   ]
  },
  {
   "cell_type": "code",
   "execution_count": 13,
   "id": "c45f59a5-bcde-462d-942d-013785793870",
   "metadata": {
    "tags": []
   },
   "outputs": [
    {
     "data": {
      "application/vnd.jupyter.widget-view+json": {
       "model_id": "16cbe9cb9c724f5e80493562d89542fe",
       "version_major": 2,
       "version_minor": 0
      },
      "text/plain": [
       "Image(value=b'')"
      ]
     },
     "metadata": {},
     "output_type": "display_data"
    }
   ],
   "source": [
    "# Process and display camera images using IPython.display\n",
    "img_widget = widgets.Image(format='png')\n",
    "display(img_widget)\n",
    "\n",
    "def on_new_image(image):\n",
    "    global img_widget\n",
    "    image_data = process_image(image)\n",
    "    img_widget.value = image_data"
   ]
  },
  {
   "cell_type": "code",
   "execution_count": 16,
   "id": "8d6639a4-8565-4b36-8225-03e246315262",
   "metadata": {
    "tags": []
   },
   "outputs": [],
   "source": [
    "def run_camera():\n",
    "    global stop_camera_loop\n",
    "    try:\n",
    "        while not stop_camera_loop:\n",
    "            time.sleep(1)\n",
    "    except KeyboardInterrupt:\n",
    "        pass\n",
    "    finally:\n",
    "        camera.stop()\n",
    "        vehicle.destroy()\n",
    "\n",
    "camera.listen(on_new_image)\n",
    "\n",
    "camera_thread = threading.Thread(target=run_camera, daemon=True)\n",
    "camera_thread.start()\n"
   ]
  },
  {
   "cell_type": "code",
   "execution_count": 17,
   "id": "e716423d-cd83-4394-9bbc-f8411fe3bc85",
   "metadata": {
    "tags": []
   },
   "outputs": [],
   "source": [
    "def control_vehicle(vehicle, throttle, brake, steer):\n",
    "    control = carla.VehicleControl()\n",
    "    control.throttle = throttle\n",
    "    control.brake = brake\n",
    "    control.steer = steer\n",
    "    vehicle.apply_control(control)"
   ]
  },
  {
   "cell_type": "code",
   "execution_count": null,
   "id": "bb17605f-f5c0-4651-9e11-ef4e58953f8c",
   "metadata": {},
   "outputs": [],
   "source": []
  }
 ],
 "metadata": {
  "kernelspec": {
   "display_name": "Python 3 (ipykernel)",
   "language": "python",
   "name": "python3"
  },
  "language_info": {
   "codemirror_mode": {
    "name": "ipython",
    "version": 3
   },
   "file_extension": ".py",
   "mimetype": "text/x-python",
   "name": "python",
   "nbconvert_exporter": "python",
   "pygments_lexer": "ipython3",
   "version": "3.8.16"
  }
 },
 "nbformat": 4,
 "nbformat_minor": 5
}
