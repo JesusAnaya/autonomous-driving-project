{
 "cells": [
  {
   "cell_type": "code",
   "execution_count": 49,
   "id": "aec9e369-8c4f-46c9-b107-b9ebfad454ad",
   "metadata": {
    "tags": [],
    "ExecuteTime": {
     "start_time": "2023-04-15T00:47:08.833237Z",
     "end_time": "2023-04-15T00:47:08.840683Z"
    }
   },
   "outputs": [],
   "source": [
    "import sys\n",
    "import os\n",
    "BASE_DIR = os.path.dirname(os.path.abspath(\"__file__\"))\n",
    "sys.path.append(os.path.join(BASE_DIR, '../'))"
   ]
  },
  {
   "cell_type": "code",
   "execution_count": 50,
   "id": "fff8c18a-001c-4a24-99d7-bb1207ffa984",
   "metadata": {
    "tags": [],
    "ExecuteTime": {
     "start_time": "2023-04-15T00:47:08.836802Z",
     "end_time": "2023-04-15T00:47:08.843226Z"
    }
   },
   "outputs": [],
   "source": [
    "import carla\n",
    "import numpy as np\n",
    "import cv2\n",
    "import time\n",
    "\n",
    "from IPython.display import clear_output, Image\n",
    "import ipywidgets as widgets\n",
    "import threading\n",
    "import math\n",
    "import logging\n",
    "import random\n",
    "\n",
    "logging.basicConfig(level=logging.INFO, format='%(asctime)s - %(name)s - %(levelname)s - %(message)s')\n",
    "logger = logging.getLogger(__name__)"
   ]
  },
  {
   "cell_type": "code",
   "execution_count": 51,
   "outputs": [],
   "source": [
    "from inference.predict_steering import predict_steering_angle"
   ],
   "metadata": {
    "collapsed": false,
    "ExecuteTime": {
     "start_time": "2023-04-15T00:47:08.844095Z",
     "end_time": "2023-04-15T00:47:08.847405Z"
    }
   }
  },
  {
   "cell_type": "code",
   "execution_count": 52,
   "id": "ce008d87-101c-4216-83d5-af4822f1644e",
   "metadata": {
    "tags": [],
    "ExecuteTime": {
     "start_time": "2023-04-15T00:47:08.850423Z",
     "end_time": "2023-04-15T00:47:08.866217Z"
    }
   },
   "outputs": [],
   "source": [
    "host_ip_address = \"192.168.1.71\"\n",
    "img_widget = widgets.Image(format='png')\n",
    "\n",
    "\n",
    "# Add a global variables\n",
    "simulation_running = False\n",
    "camera = None\n",
    "vehicle = None\n"
   ]
  },
  {
   "cell_type": "code",
   "execution_count": 53,
   "id": "6727d159-97f3-4715-b17b-b2035046217c",
   "metadata": {
    "tags": [],
    "ExecuteTime": {
     "start_time": "2023-04-15T00:47:08.855586Z",
     "end_time": "2023-04-15T00:47:08.866378Z"
    }
   },
   "outputs": [],
   "source": [
    "# vehicle speed\n",
    "speed_control_active = False\n",
    "target_speed = 8 # Desired speed in km/h\n",
    "inference_started = False"
   ]
  },
  {
   "cell_type": "code",
   "execution_count": 54,
   "id": "a8e3e2e6-d01b-4853-bf81-e93301080598",
   "metadata": {
    "tags": [],
    "ExecuteTime": {
     "start_time": "2023-04-15T00:47:08.861728Z",
     "end_time": "2023-04-15T00:47:08.866445Z"
    }
   },
   "outputs": [],
   "source": [
    "def process_image(image):\n",
    "    img_array = np.array(image.raw_data)\n",
    "    img_rgb = img_array.reshape((image.height, image.width, 4))\n",
    "    img_rgb = img_rgb[:, :, :3]\n",
    "    img_bgr = cv2.cvtColor(img_rgb, cv2.COLOR_RGB2BGR)\n",
    "    img_jpeg = cv2.imencode('.jpeg', img_bgr)[1].tobytes()\n",
    "    return img_jpeg\n",
    "\n",
    "def display_image(image_data):\n",
    "    clear_output(wait=True)\n",
    "    display(Image(image_data))\n",
    "\n",
    "def image_to_numpy(carla_image):\n",
    "    array = np.frombuffer(carla_image.raw_data, dtype=np.dtype(\"uint8\"))\n",
    "    array = np.reshape(array, (carla_image.height, carla_image.width, 4))\n",
    "    array = array[:, :, :3]\n",
    "    array = array[:, :, ::-1]\n",
    "    return array\n"
   ]
  },
  {
   "cell_type": "code",
   "execution_count": 55,
   "id": "13e1c95f-1df1-4c25-9d87-58ac2c92c755",
   "metadata": {
    "tags": [],
    "ExecuteTime": {
     "start_time": "2023-04-15T00:47:08.865475Z",
     "end_time": "2023-04-15T00:47:08.874436Z"
    }
   },
   "outputs": [],
   "source": [
    "def run_camera():\n",
    "    global simulation_running\n",
    "    try:\n",
    "        while simulation_running:\n",
    "            time.sleep(1)\n",
    "    except KeyboardInterrupt:\n",
    "        pass\n",
    "    finally:\n",
    "        camera.stop()\n",
    "        vehicle.destroy()\n",
    "\n",
    "def clip_angle(angle):\n",
    "    return max(-1.0, min(1.0, angle))\n",
    "\n",
    "\n",
    "def control_vehicle_steering(vehicle, steering_angle):\n",
    "    control = vehicle.get_control()\n",
    "    control.steer = clip_angle(steering_angle / 180.0)  # Convert the angle to the -1 to 1 range expected by Carla\n",
    "    vehicle.apply_control(control)\n",
    "\n",
    "\n",
    "def on_new_image(image):\n",
    "    global img_widget, vehicle, inference_started\n",
    "    image_data = process_image(image)\n",
    "    img_widget.value = image_data\n",
    "\n",
    "    if inference_started:\n",
    "        # Get the image as a numpy array\n",
    "        image_np = image_to_numpy(image)\n",
    "\n",
    "        # Predict the steering angle using the loaded model\n",
    "        steering_angle = predict_steering_angle(image_np)\n",
    "        logger.info(\"Predicted steering angle: {}\".format(steering_angle))\n",
    "\n",
    "        # Set the steering control for the vehicle\n",
    "        control_vehicle_steering(vehicle, steering_angle)\n",
    "\n",
    "    \n",
    "def print_available_worlds():\n",
    "    remote_host_ip = host_ip_address\n",
    "    remote_host_port = 2000\n",
    "    \n",
    "    client = carla.Client(remote_host_ip, remote_host_port)\n",
    "    client.set_timeout(10.0)\n",
    "\n",
    "    print(\"Available maps:\")\n",
    "    for map_name in client.get_available_maps():\n",
    "        print(map_name)\n",
    "        \n",
    "    \n",
    "def start_simulation():\n",
    "    global img_widget, camera, vehicle\n",
    "    \n",
    "    remote_host_ip = host_ip_address\n",
    "    remote_host_port = 2000\n",
    "\n",
    "    client = carla.Client(remote_host_ip, remote_host_port)\n",
    "    client.set_timeout(10.0)\n",
    "\n",
    "     # Load layered map for Town 01 with minimum layout plus buildings and parked vehicles\n",
    "    world = client.load_world('Town10HD')\n",
    "\n",
    "    blueprint_library = world.get_blueprint_library()\n",
    "\n",
    "    # Spawn a vehicle\n",
    "    vehicle_bp = blueprint_library.find('vehicle.tesla.model3')\n",
    "    spawn_points = world.get_map().get_spawn_points()\n",
    "    vehicle = world.spawn_actor(vehicle_bp, random.choice(spawn_points))\n",
    "\n",
    "    # Attach a camera sensor to the vehicle\n",
    "    camera_bp = blueprint_library.find('sensor.camera.rgb')\n",
    "    camera_bp.set_attribute('image_size_x', '800')\n",
    "    camera_bp.set_attribute('image_size_y', '600')\n",
    "    camera_bp.set_attribute('fov', '110')\n",
    "\n",
    "    camera_transform = carla.Transform(carla.Location(x=2.5, z=1.2))\n",
    "    camera = world.spawn_actor(camera_bp, camera_transform, attach_to=vehicle)\n",
    "\n",
    "    camera.listen(on_new_image)\n",
    "\n",
    "    camera_thread = threading.Thread(target=run_camera, daemon=True)\n",
    "    camera_thread.start()\n"
   ]
  },
  {
   "cell_type": "code",
   "execution_count": 56,
   "id": "da9fe0a9-a0c5-4be7-ac05-00b3c6536e61",
   "metadata": {
    "tags": [],
    "ExecuteTime": {
     "start_time": "2023-04-15T00:47:08.875823Z",
     "end_time": "2023-04-15T00:47:08.882282Z"
    }
   },
   "outputs": [],
   "source": [
    "def accelerate(vehicle, throttle=0.5, duration=1):\n",
    "    control = vehicle.get_control()\n",
    "    control.throttle = throttle\n",
    "    vehicle.apply_control(control)\n",
    "    time.sleep(duration)\n",
    "    control.throttle = 0\n",
    "    vehicle.apply_control(control)\n",
    "\n",
    "def brake(vehicle, brake_strength=0.5, duration=1):\n",
    "    control = vehicle.get_control()\n",
    "    control.brake = brake_strength\n",
    "    vehicle.apply_control(control)\n",
    "    time.sleep(duration)\n",
    "    control.brake = 0\n",
    "    vehicle.apply_control(control)\n",
    "\n",
    "def steer(vehicle, steering_angle, duration=1):\n",
    "    control = vehicle.get_control()\n",
    "    control.steer = steering_angle\n",
    "    vehicle.apply_control(control)\n",
    "    time.sleep(duration)\n",
    "    control.steer = 0\n",
    "    vehicle.apply_control(control)\n",
    "\n",
    "def reverse(vehicle, throttle=-0.5, duration=1):\n",
    "    control = vehicle.get_control()\n",
    "    control.throttle = throttle\n",
    "    vehicle.apply_control(control)\n",
    "    time.sleep(duration)\n",
    "    control.throttle = 0\n",
    "    vehicle.apply_control(control)\n"
   ]
  },
  {
   "cell_type": "code",
   "execution_count": 57,
   "id": "348e32bb-0ab8-4f95-9ca2-4f4cab294817",
   "metadata": {
    "tags": [],
    "ExecuteTime": {
     "start_time": "2023-04-15T00:47:08.887178Z",
     "end_time": "2023-04-15T00:47:08.892853Z"
    }
   },
   "outputs": [],
   "source": [
    "def maintain_speed(vehicle, target_speed):\n",
    "    current_speed = get_speed(vehicle)\n",
    "    throttle = 0.0\n",
    "\n",
    "    if current_speed < target_speed:\n",
    "        throttle = min((target_speed - current_speed) * 0.05, 1.0)\n",
    "    elif current_speed > target_speed:\n",
    "        throttle = max((target_speed - current_speed) * 0.05, -1.0)\n",
    "\n",
    "    vehicle_control = vehicle.get_control()\n",
    "    vehicle_control.throttle = throttle\n",
    "    vehicle.apply_control(vehicle_control)\n",
    "\n",
    "def get_speed(vehicle):\n",
    "    velocity = vehicle.get_velocity()\n",
    "    return 3.6 * math.sqrt(velocity.x**2 + velocity.y**2 + velocity.z**2)\n",
    "\n",
    "def stop_vehicle(vehicle):\n",
    "    vehicle_control = vehicle.get_control()\n",
    "    vehicle_control.throttle = 0.0\n",
    "    vehicle_control.brake = 0.0\n",
    "    vehicle.apply_control(vehicle_control)\n",
    "\n",
    "def maintain_speed_thread(vehicle, target_speed):\n",
    "    global speed_control_active, should_stop_car\n",
    "    while speed_control_active:\n",
    "        maintain_speed(vehicle, target_speed)\n",
    "        logger.info(\"Current speed: {:.2f} km/h\".format(get_speed(vehicle)))\n",
    "        time.sleep(0.1)\n",
    "\n",
    "def on_maintain_speed_click(button):\n",
    "    global speed_control_active, should_stop_car, vehicle, target_speed\n",
    "\n",
    "    if not speed_control_active:\n",
    "        button.description = \"Stop Maintaining Speed\"\n",
    "        speed_control_active = True\n",
    "        time.sleep(0.2)\n",
    "        speed_thread = threading.Thread(target=maintain_speed_thread, args=(vehicle, target_speed), daemon=True)\n",
    "        speed_thread.start()\n",
    "    else:\n",
    "        button.description = \"Maintain Speed\"\n",
    "        speed_control_active = False\n",
    "        stop_vehicle(vehicle)\n"
   ]
  },
  {
   "cell_type": "code",
   "execution_count": 58,
   "id": "568a2944-8e58-4e3d-800c-832a7362e912",
   "metadata": {
    "tags": [],
    "ExecuteTime": {
     "start_time": "2023-04-15T00:47:08.898848Z",
     "end_time": "2023-04-15T00:47:08.914414Z"
    }
   },
   "outputs": [
    {
     "data": {
      "text/plain": "HBox(children=(Button(description='Accelerate', style=ButtonStyle()), Button(description='Brake', style=Button…",
      "application/vnd.jupyter.widget-view+json": {
       "version_major": 2,
       "version_minor": 0,
       "model_id": "89001a2ff6ac462683678854c2e6eb8a"
      }
     },
     "metadata": {},
     "output_type": "display_data"
    }
   ],
   "source": [
    "accelerate_button = widgets.Button(description=\"Accelerate\")\n",
    "brake_button = widgets.Button(description=\"Brake\")\n",
    "steer_left_button = widgets.Button(description=\"Steer Left\")\n",
    "steer_right_button = widgets.Button(description=\"Steer Right\")\n",
    "reverse_button = widgets.Button(description=\"Reverse\")\n",
    "maintain_speed_button = widgets.Button(description=\"Maintain Speed\")\n",
    "start_inference_button = widgets.Button(description=\"Start Inference\")\n",
    "\n",
    "def on_accelerate_click(button):\n",
    "    threading.Thread(target=accelerate, args=(vehicle,), daemon=True).start()\n",
    "\n",
    "def on_brake_click(button):\n",
    "    threading.Thread(target=brake, args=(vehicle,), daemon=True).start()\n",
    "\n",
    "def on_steer_left_click(button):\n",
    "    threading.Thread(target=steer, args=(vehicle, -0.5), daemon=True).start()\n",
    "\n",
    "def on_steer_right_click(button):\n",
    "    threading.Thread(target=steer, args=(vehicle, 0.5), daemon=True).start()\n",
    "\n",
    "def on_reverse_click(button):\n",
    "    threading.Thread(target=reverse, args=(vehicle,), daemon=True).start()\n",
    "\n",
    "def on_start_inference_button_click(button):\n",
    "    global inference_started\n",
    "\n",
    "    if not inference_started:\n",
    "        button.description = \"Stop Inference\"\n",
    "        inference_started = True\n",
    "    else:\n",
    "        button.description = \"Start Inference\"\n",
    "        inference_started = False\n",
    "\n",
    "accelerate_button.on_click(on_accelerate_click)\n",
    "brake_button.on_click(on_brake_click)\n",
    "steer_left_button.on_click(on_steer_left_click)\n",
    "steer_right_button.on_click(on_steer_right_click)\n",
    "reverse_button.on_click(on_reverse_click)\n",
    "maintain_speed_button.on_click(on_maintain_speed_click)\n",
    "start_inference_button.on_click(on_start_inference_button_click)\n",
    "\n",
    "controls_box = widgets.HBox([\n",
    "    accelerate_button,\n",
    "    brake_button,\n",
    "    steer_left_button,\n",
    "    steer_right_button,\n",
    "    reverse_button,\n",
    "    maintain_speed_button,\n",
    "    start_inference_button\n",
    "])\n",
    "display(controls_box)\n"
   ]
  },
  {
   "cell_type": "code",
   "execution_count": 59,
   "id": "773155c4-5d5c-4506-be72-db2a75097d87",
   "metadata": {
    "tags": [],
    "ExecuteTime": {
     "start_time": "2023-04-15T00:47:08.923150Z",
     "end_time": "2023-04-15T00:47:08.925339Z"
    }
   },
   "outputs": [
    {
     "data": {
      "text/plain": "Image(value=b'')",
      "application/vnd.jupyter.widget-view+json": {
       "version_major": 2,
       "version_minor": 0,
       "model_id": "24abd96bd334404c9311649a0940ab9a"
      }
     },
     "metadata": {},
     "output_type": "display_data"
    }
   ],
   "source": [
    "display(img_widget)"
   ]
  },
  {
   "cell_type": "code",
   "execution_count": 60,
   "id": "4c0e0b82-829b-4075-9d79-97040e6b1303",
   "metadata": {
    "tags": [],
    "ExecuteTime": {
     "start_time": "2023-04-15T00:47:08.926585Z",
     "end_time": "2023-04-15T00:47:08.928796Z"
    }
   },
   "outputs": [
    {
     "data": {
      "text/plain": "Button(description='Start Simulation', style=ButtonStyle())",
      "application/vnd.jupyter.widget-view+json": {
       "version_major": 2,
       "version_minor": 0,
       "model_id": "5fa1f6e7dadb4fe2b3b2b6b74d093e07"
      }
     },
     "metadata": {},
     "output_type": "display_data"
    }
   ],
   "source": [
    "def on_button_click(button):\n",
    "    global simulation_running\n",
    "    if not simulation_running:\n",
    "        button.description = \"Stop Simulation\"\n",
    "        simulation_running = True\n",
    "        start_simulation()\n",
    "    else:\n",
    "        button.description = \"Start Simulation\"\n",
    "        simulation_running = False\n",
    "        \n",
    "\n",
    "stop_button = widgets.Button(description=\"Start Simulation\" if not simulation_running else \"Stop Simulation\")\n",
    "stop_button.on_click(on_button_click)\n",
    "display(stop_button)\n"
   ]
  },
  {
   "cell_type": "code",
   "execution_count": 60,
   "id": "5a3c0d8f-469e-403a-befc-354a0cccc69b",
   "metadata": {
    "ExecuteTime": {
     "start_time": "2023-04-15T00:47:08.826634Z",
     "end_time": "2023-04-15T00:47:08.932638Z"
    }
   },
   "outputs": [],
   "source": []
  }
 ],
 "metadata": {
  "kernelspec": {
   "display_name": "Python 3 (ipykernel)",
   "language": "python",
   "name": "python3"
  },
  "language_info": {
   "codemirror_mode": {
    "name": "ipython",
    "version": 3
   },
   "file_extension": ".py",
   "mimetype": "text/x-python",
   "name": "python",
   "nbconvert_exporter": "python",
   "pygments_lexer": "ipython3",
   "version": "3.8.16"
  }
 },
 "nbformat": 4,
 "nbformat_minor": 5
}
