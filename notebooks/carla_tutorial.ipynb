{
 "cells": [
  {
   "cell_type": "code",
   "execution_count": 6,
   "metadata": {
    "collapsed": true,
    "ExecuteTime": {
     "start_time": "2023-04-17T12:24:36.137342Z",
     "end_time": "2023-04-17T12:24:36.144842Z"
    }
   },
   "outputs": [],
   "source": [
    "import carla\n",
    "import math\n",
    "import random\n",
    "import time\n",
    "import cv2\n"
   ]
  },
  {
   "cell_type": "code",
   "execution_count": 7,
   "outputs": [
    {
     "name": "stderr",
     "output_type": "stream",
     "text": [
      "WARNING: Version mismatch detected: You are trying to connect to a simulator that might be incompatible with this API \n",
      "WARNING: Client API version     = 0.9.13-6-g470d92bde-dirty \n",
      "WARNING: Simulator API version  = 0.9.13 \n"
     ]
    }
   ],
   "source": [
    "client = carla.Client('192.168.1.71', 2000)\n",
    "world = client.get_world()"
   ],
   "metadata": {
    "collapsed": false,
    "ExecuteTime": {
     "start_time": "2023-04-17T12:24:36.907464Z",
     "end_time": "2023-04-17T12:24:36.911403Z"
    }
   }
  },
  {
   "cell_type": "code",
   "execution_count": 8,
   "outputs": [],
   "source": [
    "bp_lib = world.get_blueprint_library()\n",
    "spawn_points = world.get_map().get_spawn_points()"
   ],
   "metadata": {
    "collapsed": false,
    "ExecuteTime": {
     "start_time": "2023-04-17T12:24:37.804970Z",
     "end_time": "2023-04-17T12:24:37.898466Z"
    }
   }
  },
  {
   "cell_type": "code",
   "execution_count": 10,
   "outputs": [],
   "source": [
    "vehicle_bp = bp_lib.find('vehicle.tesla.model3')\n",
    "vehicle = world.try_spawn_actor(vehicle_bp, random.choice(spawn_points))"
   ],
   "metadata": {
    "collapsed": false,
    "ExecuteTime": {
     "start_time": "2023-04-17T12:25:22.793263Z",
     "end_time": "2023-04-17T12:25:22.801154Z"
    }
   }
  },
  {
   "cell_type": "code",
   "execution_count": 12,
   "outputs": [],
   "source": [
    "spectator = world.get_spectator()\n",
    "transform = carla.Transform(vehicle.get_location() + carla.Location(z=50), carla.Rotation(pitch=-90))\n",
    "spectator.set_transform(transform)"
   ],
   "metadata": {
    "collapsed": false,
    "ExecuteTime": {
     "start_time": "2023-04-17T12:25:38.072055Z",
     "end_time": "2023-04-17T12:25:38.082481Z"
    }
   }
  },
  {
   "cell_type": "code",
   "execution_count": null,
   "outputs": [],
   "source": [
    "def process_image(image):\n",
    "    img_array = np.array(image.raw_data)\n",
    "    img_rgb = img_array.reshape((image.height, image.width, 4))\n",
    "    img_rgb = img_rgb[:, :, :3]\n",
    "    img_bgr = cv2.cvtColor(img_rgb, cv2.COLOR_RGB2BGR)\n",
    "    img_jpeg = cv2.imencode('.jpeg', img_bgr)[1].tobytes()\n",
    "    return img_jpeg\n",
    "\n",
    "def display_image(image_data):\n",
    "    clear_output(wait=True)\n",
    "    display(Image(image_data))"
   ],
   "metadata": {
    "collapsed": false
   }
  }
 ],
 "metadata": {
  "kernelspec": {
   "display_name": "Python 3",
   "language": "python",
   "name": "python3"
  },
  "language_info": {
   "codemirror_mode": {
    "name": "ipython",
    "version": 2
   },
   "file_extension": ".py",
   "mimetype": "text/x-python",
   "name": "python",
   "nbconvert_exporter": "python",
   "pygments_lexer": "ipython2",
   "version": "2.7.6"
  }
 },
 "nbformat": 4,
 "nbformat_minor": 0
}
